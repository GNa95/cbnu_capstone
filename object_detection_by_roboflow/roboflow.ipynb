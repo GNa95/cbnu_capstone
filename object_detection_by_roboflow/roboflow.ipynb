{
 "cells": [
  {
   "cell_type": "code",
   "execution_count": 2,
   "id": "initial_id",
   "metadata": {
    "ExecuteTime": {
     "end_time": "2025-05-25T11:43:09.907892Z",
     "start_time": "2025-05-25T11:40:13.014260Z"
    },
    "tags": []
   },
   "outputs": [
    {
     "name": "stdout",
     "output_type": "stream",
     "text": [
      "loading Roboflow workspace...\n",
      "loading Roboflow project...\n",
      "Ultralytics 8.3.144  Python-3.9.0 torch-2.7.0+cpu CPU (Intel Core(TM) i9-14900HX)\n",
      "\u001B[34m\u001B[1mengine\\trainer: \u001B[0magnostic_nms=False, amp=True, augment=False, auto_augment=randaugment, batch=16, bgr=0.0, box=7.5, cache=False, cfg=None, classes=None, close_mosaic=10, cls=0.5, conf=None, copy_paste=0.0, copy_paste_mode=flip, cos_lr=False, cutmix=0.0, data=D:\\0. \\3\\capstone\\find_ship-1/data.yaml, degrees=0.0, deterministic=True, device=cpu, dfl=1.5, dnn=False, dropout=0.0, dynamic=False, embed=None, epochs=50, erasing=0.4, exist_ok=False, fliplr=0.5, flipud=0.0, format=torchscript, fraction=1.0, freeze=None, half=False, hsv_h=0.015, hsv_s=0.7, hsv_v=0.4, imgsz=640, int8=False, iou=0.7, keras=False, kobj=1.0, line_width=None, lr0=0.01, lrf=0.01, mask_ratio=4, max_det=300, mixup=0.0, mode=train, model=yolov8n.pt, momentum=0.937, mosaic=1.0, multi_scale=False, name=yolov8_find_ship3, nbs=64, nms=False, opset=None, optimize=False, optimizer=auto, overlap_mask=True, patience=100, perspective=0.0, plots=True, pose=12.0, pretrained=True, profile=False, project=None, rect=False, resume=False, retina_masks=False, save=True, save_conf=False, save_crop=False, save_dir=runs\\detect\\yolov8_find_ship3, save_frames=False, save_json=False, save_period=-1, save_txt=False, scale=0.5, seed=0, shear=0.0, show=False, show_boxes=True, show_conf=True, show_labels=True, simplify=True, single_cls=False, source=None, split=val, stream_buffer=False, task=detect, time=None, tracker=botsort.yaml, translate=0.1, val=True, verbose=True, vid_stride=1, visualize=False, warmup_bias_lr=0.1, warmup_epochs=3.0, warmup_momentum=0.8, weight_decay=0.0005, workers=8, workspace=None\n",
      "Overriding model.yaml nc=80 with nc=1\n",
      "\n",
      "                   from  n    params  module                                       arguments                     \n",
      "  0                  -1  1       464  ultralytics.nn.modules.conv.Conv             [3, 16, 3, 2]                 \n",
      "  1                  -1  1      4672  ultralytics.nn.modules.conv.Conv             [16, 32, 3, 2]                \n",
      "  2                  -1  1      7360  ultralytics.nn.modules.block.C2f             [32, 32, 1, True]             \n",
      "  3                  -1  1     18560  ultralytics.nn.modules.conv.Conv             [32, 64, 3, 2]                \n",
      "  4                  -1  2     49664  ultralytics.nn.modules.block.C2f             [64, 64, 2, True]             \n",
      "  5                  -1  1     73984  ultralytics.nn.modules.conv.Conv             [64, 128, 3, 2]               \n",
      "  6                  -1  2    197632  ultralytics.nn.modules.block.C2f             [128, 128, 2, True]           \n",
      "  7                  -1  1    295424  ultralytics.nn.modules.conv.Conv             [128, 256, 3, 2]              \n",
      "  8                  -1  1    460288  ultralytics.nn.modules.block.C2f             [256, 256, 1, True]           \n",
      "  9                  -1  1    164608  ultralytics.nn.modules.block.SPPF            [256, 256, 5]                 \n",
      " 10                  -1  1         0  torch.nn.modules.upsampling.Upsample         [None, 2, 'nearest']          \n",
      " 11             [-1, 6]  1         0  ultralytics.nn.modules.conv.Concat           [1]                           \n",
      " 12                  -1  1    148224  ultralytics.nn.modules.block.C2f             [384, 128, 1]                 \n",
      " 13                  -1  1         0  torch.nn.modules.upsampling.Upsample         [None, 2, 'nearest']          \n",
      " 14             [-1, 4]  1         0  ultralytics.nn.modules.conv.Concat           [1]                           \n",
      " 15                  -1  1     37248  ultralytics.nn.modules.block.C2f             [192, 64, 1]                  \n",
      " 16                  -1  1     36992  ultralytics.nn.modules.conv.Conv             [64, 64, 3, 2]                \n",
      " 17            [-1, 12]  1         0  ultralytics.nn.modules.conv.Concat           [1]                           \n",
      " 18                  -1  1    123648  ultralytics.nn.modules.block.C2f             [192, 128, 1]                 \n",
      " 19                  -1  1    147712  ultralytics.nn.modules.conv.Conv             [128, 128, 3, 2]              \n",
      " 20             [-1, 9]  1         0  ultralytics.nn.modules.conv.Concat           [1]                           \n",
      " 21                  -1  1    493056  ultralytics.nn.modules.block.C2f             [384, 256, 1]                 \n",
      " 22        [15, 18, 21]  1    751507  ultralytics.nn.modules.head.Detect           [1, [64, 128, 256]]           \n",
      "Model summary: 129 layers, 3,011,043 parameters, 3,011,027 gradients, 8.2 GFLOPs\n",
      "\n",
      "Transferred 319/355 items from pretrained weights\n",
      "Freezing layer 'model.22.dfl.conv.weight'\n",
      "\u001B[34m\u001B[1mtrain: \u001B[0mFast image access  (ping: 0.20.0 ms, read: 63.826.3 MB/s, size: 34.1 KB)\n"
     ]
    },
    {
     "name": "stderr",
     "output_type": "stream",
     "text": [
      "\u001B[34m\u001B[1mtrain: \u001B[0mScanning D:\\0. 대학원\\3학기\\capstone\\find_ship-1\\train\\labels.cache... 53 images, 0 backgrounds, 0 corrupt: 100%\u001B[0m"
     ]
    },
    {
     "name": "stdout",
     "output_type": "stream",
     "text": [
      "\u001B[34m\u001B[1mval: \u001B[0mFast image access  (ping: 0.10.1 ms, read: 169.367.7 MB/s, size: 40.9 KB)\n"
     ]
    },
    {
     "name": "stderr",
     "output_type": "stream",
     "text": [
      "\n",
      "'pin_memory' argument is set as true but no accelerator is found, then device pinned memory won't be used.\n",
      "\u001B[34m\u001B[1mval: \u001B[0mScanning D:\\0. 대학원\\3학기\\capstone\\find_ship-1\\valid\\labels.cache... 10 images, 0 backgrounds, 0 corrupt: 100%|█\u001B[0m"
     ]
    },
    {
     "name": "stdout",
     "output_type": "stream",
     "text": [
      "Plotting labels to runs\\detect\\yolov8_find_ship3\\labels.jpg... \n"
     ]
    },
    {
     "name": "stderr",
     "output_type": "stream",
     "text": [
      "\n",
      "'pin_memory' argument is set as true but no accelerator is found, then device pinned memory won't be used.\n"
     ]
    },
    {
     "name": "stdout",
     "output_type": "stream",
     "text": [
      "\u001B[34m\u001B[1moptimizer:\u001B[0m 'optimizer=auto' found, ignoring 'lr0=0.01' and 'momentum=0.937' and determining best 'optimizer', 'lr0' and 'momentum' automatically... \n",
      "\u001B[34m\u001B[1moptimizer:\u001B[0m AdamW(lr=0.002, momentum=0.9) with parameter groups 57 weight(decay=0.0), 64 weight(decay=0.0005), 63 bias(decay=0.0)\n",
      "Image sizes 640 train, 640 val\n",
      "Using 0 dataloader workers\n",
      "Logging results to \u001B[1mruns\\detect\\yolov8_find_ship3\u001B[0m\n",
      "Starting training for 50 epochs...\n",
      "\n",
      "      Epoch    GPU_mem   box_loss   cls_loss   dfl_loss  Instances       Size\n"
     ]
    },
    {
     "name": "stderr",
     "output_type": "stream",
     "text": [
      "       1/50         0G      2.725      4.039      1.239         81        640: 100%|██████████| 4/4 [00:31<00:00,  7.97\n",
      "                 Class     Images  Instances      Box(P          R      mAP50  mAP50-95): 100%|██████████| 1/1 [00:02<0"
     ]
    },
    {
     "name": "stdout",
     "output_type": "stream",
     "text": [
      "                   all         10        109      0.005      0.138    0.00301   0.000914\n"
     ]
    },
    {
     "name": "stderr",
     "output_type": "stream",
     "text": [
      "\n"
     ]
    },
    {
     "name": "stdout",
     "output_type": "stream",
     "text": [
      "\n",
      "      Epoch    GPU_mem   box_loss   cls_loss   dfl_loss  Instances       Size\n"
     ]
    },
    {
     "name": "stderr",
     "output_type": "stream",
     "text": [
      "       2/50         0G      2.646      3.691      1.207         49        640: 100%|██████████| 4/4 [00:30<00:00,  7.70\n",
      "                 Class     Images  Instances      Box(P          R      mAP50  mAP50-95): 100%|██████████| 1/1 [00:02<0"
     ]
    },
    {
     "name": "stdout",
     "output_type": "stream",
     "text": [
      "                   all         10        109     0.0233      0.642     0.0298     0.0079\n"
     ]
    },
    {
     "name": "stderr",
     "output_type": "stream",
     "text": [
      "\n"
     ]
    },
    {
     "name": "stdout",
     "output_type": "stream",
     "text": [
      "\n",
      "      Epoch    GPU_mem   box_loss   cls_loss   dfl_loss  Instances       Size\n"
     ]
    },
    {
     "name": "stderr",
     "output_type": "stream",
     "text": [
      "       3/50         0G      2.554      2.848      1.128         61        640: 100%|██████████| 4/4 [00:33<00:00,  8.36\n",
      "                 Class     Images  Instances      Box(P          R      mAP50  mAP50-95): 100%|██████████| 1/1 [00:02<0"
     ]
    },
    {
     "name": "stdout",
     "output_type": "stream",
     "text": [
      "                   all         10        109     0.0307      0.844      0.127     0.0374\n"
     ]
    },
    {
     "name": "stderr",
     "output_type": "stream",
     "text": [
      "\n"
     ]
    },
    {
     "name": "stdout",
     "output_type": "stream",
     "text": [
      "\n",
      "      Epoch    GPU_mem   box_loss   cls_loss   dfl_loss  Instances       Size\n"
     ]
    },
    {
     "name": "stderr",
     "output_type": "stream",
     "text": [
      "       4/50         0G      2.323      2.069      1.119         53        640: 100%|██████████| 4/4 [00:32<00:00,  8.12\n",
      "                 Class     Images  Instances      Box(P          R      mAP50  mAP50-95): 100%|██████████| 1/1 [00:02<0"
     ]
    },
    {
     "name": "stdout",
     "output_type": "stream",
     "text": [
      "                   all         10        109     0.0307      0.844      0.121     0.0268\n"
     ]
    },
    {
     "name": "stderr",
     "output_type": "stream",
     "text": [
      "\n"
     ]
    },
    {
     "name": "stdout",
     "output_type": "stream",
     "text": [
      "\n",
      "      Epoch    GPU_mem   box_loss   cls_loss   dfl_loss  Instances       Size\n"
     ]
    },
    {
     "name": "stderr",
     "output_type": "stream",
     "text": [
      "       5/50         0G      2.265      2.041      1.135         24        640: 100%|██████████| 4/4 [00:30<00:00,  7.52\n",
      "                 Class     Images  Instances      Box(P          R      mAP50  mAP50-95): 100%|██████████| 1/1 [00:02<0"
     ]
    },
    {
     "name": "stdout",
     "output_type": "stream",
     "text": [
      "                   all         10        109      0.026      0.716     0.0793     0.0175\n"
     ]
    },
    {
     "name": "stderr",
     "output_type": "stream",
     "text": [
      "\n"
     ]
    },
    {
     "name": "stdout",
     "output_type": "stream",
     "text": [
      "\n",
      "      Epoch    GPU_mem   box_loss   cls_loss   dfl_loss  Instances       Size\n"
     ]
    },
    {
     "name": "stderr",
     "output_type": "stream",
     "text": [
      "       6/50         0G      2.267      1.928      1.078         72        640: 100%|██████████| 4/4 [00:30<00:00,  7.73\n",
      "                 Class     Images  Instances      Box(P          R      mAP50  mAP50-95): 100%|██████████| 1/1 [00:02<0"
     ]
    },
    {
     "name": "stdout",
     "output_type": "stream",
     "text": [
      "                   all         10        109     0.0267      0.734     0.0746     0.0159\n"
     ]
    },
    {
     "name": "stderr",
     "output_type": "stream",
     "text": [
      "\n"
     ]
    },
    {
     "name": "stdout",
     "output_type": "stream",
     "text": [
      "\n",
      "      Epoch    GPU_mem   box_loss   cls_loss   dfl_loss  Instances       Size\n"
     ]
    },
    {
     "name": "stderr",
     "output_type": "stream",
     "text": [
      "       7/50         0G      2.404      2.007      1.123         38        640: 100%|██████████| 4/4 [00:30<00:00,  7.59\n",
      "                 Class     Images  Instances      Box(P          R      mAP50  mAP50-95): 100%|██████████| 1/1 [00:02<0"
     ]
    },
    {
     "name": "stdout",
     "output_type": "stream",
     "text": [
      "                   all         10        109     0.0253      0.697      0.039     0.0113\n"
     ]
    },
    {
     "name": "stderr",
     "output_type": "stream",
     "text": [
      "\n"
     ]
    },
    {
     "name": "stdout",
     "output_type": "stream",
     "text": [
      "\n",
      "      Epoch    GPU_mem   box_loss   cls_loss   dfl_loss  Instances       Size\n"
     ]
    },
    {
     "name": "stderr",
     "output_type": "stream",
     "text": [
      "       8/50         0G      2.328      2.274      1.095         18        640: 100%|██████████| 4/4 [00:30<00:00,  7.55\n",
      "                 Class     Images  Instances      Box(P          R      mAP50  mAP50-95): 100%|██████████| 1/1 [00:02<0"
     ]
    },
    {
     "name": "stdout",
     "output_type": "stream",
     "text": [
      "                   all         10        109     0.0287      0.789     0.0381     0.0119\n"
     ]
    },
    {
     "name": "stderr",
     "output_type": "stream",
     "text": [
      "\n"
     ]
    },
    {
     "name": "stdout",
     "output_type": "stream",
     "text": [
      "\n",
      "      Epoch    GPU_mem   box_loss   cls_loss   dfl_loss  Instances       Size\n"
     ]
    },
    {
     "name": "stderr",
     "output_type": "stream",
     "text": [
      "       9/50         0G      2.302      1.739      1.106         60        640: 100%|██████████| 4/4 [00:31<00:00,  7.83\n",
      "                 Class     Images  Instances      Box(P          R      mAP50  mAP50-95): 100%|██████████| 1/1 [00:02<0"
     ]
    },
    {
     "name": "stdout",
     "output_type": "stream",
     "text": [
      "                   all         10        109     0.0273      0.752     0.0354     0.0102\n"
     ]
    },
    {
     "name": "stderr",
     "output_type": "stream",
     "text": [
      "\n"
     ]
    },
    {
     "name": "stdout",
     "output_type": "stream",
     "text": [
      "\n",
      "      Epoch    GPU_mem   box_loss   cls_loss   dfl_loss  Instances       Size\n"
     ]
    },
    {
     "name": "stderr",
     "output_type": "stream",
     "text": [
      "      10/50         0G      2.461        2.1      1.104         37        640: 100%|██████████| 4/4 [00:29<00:00,  7.35\n",
      "                 Class     Images  Instances      Box(P          R      mAP50  mAP50-95): 100%|██████████| 1/1 [00:02<0"
     ]
    },
    {
     "name": "stdout",
     "output_type": "stream",
     "text": [
      "                   all         10        109     0.0247      0.679     0.0288    0.00877\n"
     ]
    },
    {
     "name": "stderr",
     "output_type": "stream",
     "text": [
      "\n"
     ]
    },
    {
     "name": "stdout",
     "output_type": "stream",
     "text": [
      "\n",
      "      Epoch    GPU_mem   box_loss   cls_loss   dfl_loss  Instances       Size\n"
     ]
    },
    {
     "name": "stderr",
     "output_type": "stream",
     "text": [
      "      11/50         0G      2.236       1.74      1.084         55        640: 100%|██████████| 4/4 [00:31<00:00,  7.82\n",
      "                 Class     Images  Instances      Box(P          R      mAP50  mAP50-95): 100%|██████████| 1/1 [00:02<0"
     ]
    },
    {
     "name": "stdout",
     "output_type": "stream",
     "text": [
      "                   all         10        109      0.021      0.578     0.0347    0.00884\n"
     ]
    },
    {
     "name": "stderr",
     "output_type": "stream",
     "text": [
      "\n"
     ]
    },
    {
     "name": "stdout",
     "output_type": "stream",
     "text": [
      "\n",
      "      Epoch    GPU_mem   box_loss   cls_loss   dfl_loss  Instances       Size\n"
     ]
    },
    {
     "name": "stderr",
     "output_type": "stream",
     "text": [
      "      12/50         0G      2.081      1.716      1.117         44        640: 100%|██████████| 4/4 [00:29<00:00,  7.25\n",
      "                 Class     Images  Instances      Box(P          R      mAP50  mAP50-95): 100%|██████████| 1/1 [00:02<0"
     ]
    },
    {
     "name": "stdout",
     "output_type": "stream",
     "text": [
      "                   all         10        109      0.023      0.633      0.233     0.0531\n"
     ]
    },
    {
     "name": "stderr",
     "output_type": "stream",
     "text": [
      "\n"
     ]
    },
    {
     "name": "stdout",
     "output_type": "stream",
     "text": [
      "\n",
      "      Epoch    GPU_mem   box_loss   cls_loss   dfl_loss  Instances       Size\n"
     ]
    },
    {
     "name": "stderr",
     "output_type": "stream",
     "text": [
      "      13/50         0G      2.213      1.772      1.113         19        640: 100%|██████████| 4/4 [00:30<00:00,  7.67\n",
      "                 Class     Images  Instances      Box(P          R      mAP50  mAP50-95): 100%|██████████| 1/1 [00:02<0"
     ]
    },
    {
     "name": "stdout",
     "output_type": "stream",
     "text": [
      "                   all         10        109     0.0173      0.477     0.0923     0.0226\n"
     ]
    },
    {
     "name": "stderr",
     "output_type": "stream",
     "text": [
      "\n"
     ]
    },
    {
     "name": "stdout",
     "output_type": "stream",
     "text": [
      "\n",
      "      Epoch    GPU_mem   box_loss   cls_loss   dfl_loss  Instances       Size\n"
     ]
    },
    {
     "name": "stderr",
     "output_type": "stream",
     "text": [
      "      14/50         0G      2.288      1.726      1.097         87        640: 100%|██████████| 4/4 [00:30<00:00,  7.74\n",
      "                 Class     Images  Instances      Box(P          R      mAP50  mAP50-95): 100%|██████████| 1/1 [00:02<0"
     ]
    },
    {
     "name": "stdout",
     "output_type": "stream",
     "text": [
      "                   all         10        109     0.0137      0.376     0.0624     0.0145\n"
     ]
    },
    {
     "name": "stderr",
     "output_type": "stream",
     "text": [
      "\n"
     ]
    },
    {
     "name": "stdout",
     "output_type": "stream",
     "text": [
      "\n",
      "      Epoch    GPU_mem   box_loss   cls_loss   dfl_loss  Instances       Size\n"
     ]
    },
    {
     "name": "stderr",
     "output_type": "stream",
     "text": [
      "      15/50         0G      2.166      1.717      1.101         23        640: 100%|██████████| 4/4 [00:31<00:00,  7.77\n",
      "                 Class     Images  Instances      Box(P          R      mAP50  mAP50-95): 100%|██████████| 1/1 [00:02<0"
     ]
    },
    {
     "name": "stdout",
     "output_type": "stream",
     "text": [
      "                   all         10        109     0.0133      0.367     0.0856      0.019\n"
     ]
    },
    {
     "name": "stderr",
     "output_type": "stream",
     "text": [
      "\n"
     ]
    },
    {
     "name": "stdout",
     "output_type": "stream",
     "text": [
      "\n",
      "      Epoch    GPU_mem   box_loss   cls_loss   dfl_loss  Instances       Size\n"
     ]
    },
    {
     "name": "stderr",
     "output_type": "stream",
     "text": [
      "      16/50         0G       2.18      1.658      1.129        122        640: 100%|██████████| 4/4 [00:29<00:00,  7.49\n",
      "                 Class     Images  Instances      Box(P          R      mAP50  mAP50-95): 100%|██████████| 1/1 [00:02<0"
     ]
    },
    {
     "name": "stdout",
     "output_type": "stream",
     "text": [
      "                   all         10        109     0.0173      0.477     0.0919     0.0207\n"
     ]
    },
    {
     "name": "stderr",
     "output_type": "stream",
     "text": [
      "\n"
     ]
    },
    {
     "name": "stdout",
     "output_type": "stream",
     "text": [
      "\n",
      "      Epoch    GPU_mem   box_loss   cls_loss   dfl_loss  Instances       Size\n"
     ]
    },
    {
     "name": "stderr",
     "output_type": "stream",
     "text": [
      "      17/50         0G      2.017      1.645      1.086         34        640: 100%|██████████| 4/4 [00:29<00:00,  7.40\n",
      "                 Class     Images  Instances      Box(P          R      mAP50  mAP50-95): 100%|██████████| 1/1 [00:02<0"
     ]
    },
    {
     "name": "stdout",
     "output_type": "stream",
     "text": [
      "                   all         10        109      0.023      0.633      0.181     0.0452\n"
     ]
    },
    {
     "name": "stderr",
     "output_type": "stream",
     "text": [
      "\n"
     ]
    },
    {
     "name": "stdout",
     "output_type": "stream",
     "text": [
      "\n",
      "      Epoch    GPU_mem   box_loss   cls_loss   dfl_loss  Instances       Size\n"
     ]
    },
    {
     "name": "stderr",
     "output_type": "stream",
     "text": [
      "      18/50         0G      2.101      1.636      1.098         26        640: 100%|██████████| 4/4 [00:31<00:00,  7.96\n",
      "                 Class     Images  Instances      Box(P          R      mAP50  mAP50-95): 100%|██████████| 1/1 [00:02<0"
     ]
    },
    {
     "name": "stdout",
     "output_type": "stream",
     "text": [
      "                   all         10        109     0.0277      0.761      0.347     0.0925\n"
     ]
    },
    {
     "name": "stderr",
     "output_type": "stream",
     "text": [
      "\n"
     ]
    },
    {
     "name": "stdout",
     "output_type": "stream",
     "text": [
      "\n",
      "      Epoch    GPU_mem   box_loss   cls_loss   dfl_loss  Instances       Size\n"
     ]
    },
    {
     "name": "stderr",
     "output_type": "stream",
     "text": [
      "      19/50         0G      2.026       1.61      1.092         31        640: 100%|██████████| 4/4 [00:29<00:00,  7.48\n",
      "                 Class     Images  Instances      Box(P          R      mAP50  mAP50-95): 100%|██████████| 1/1 [00:02<0"
     ]
    },
    {
     "name": "stdout",
     "output_type": "stream",
     "text": [
      "                   all         10        109     0.0287      0.789      0.385      0.102\n"
     ]
    },
    {
     "name": "stderr",
     "output_type": "stream",
     "text": [
      "\n"
     ]
    },
    {
     "name": "stdout",
     "output_type": "stream",
     "text": [
      "\n",
      "      Epoch    GPU_mem   box_loss   cls_loss   dfl_loss  Instances       Size\n"
     ]
    },
    {
     "name": "stderr",
     "output_type": "stream",
     "text": [
      "      20/50         0G      1.962      1.367      1.088         57        640: 100%|██████████| 4/4 [00:29<00:00,  7.44\n",
      "                 Class     Images  Instances      Box(P          R      mAP50  mAP50-95): 100%|██████████| 1/1 [00:02<0"
     ]
    },
    {
     "name": "stdout",
     "output_type": "stream",
     "text": [
      "                   all         10        109      0.287      0.587      0.411        0.1\n"
     ]
    },
    {
     "name": "stderr",
     "output_type": "stream",
     "text": [
      "\n"
     ]
    },
    {
     "name": "stdout",
     "output_type": "stream",
     "text": [
      "\n",
      "      Epoch    GPU_mem   box_loss   cls_loss   dfl_loss  Instances       Size\n"
     ]
    },
    {
     "name": "stderr",
     "output_type": "stream",
     "text": [
      "      21/50         0G      2.288      1.545      1.117         40        640: 100%|██████████| 4/4 [00:29<00:00,  7.37\n",
      "                 Class     Images  Instances      Box(P          R      mAP50  mAP50-95): 100%|██████████| 1/1 [00:02<0"
     ]
    },
    {
     "name": "stdout",
     "output_type": "stream",
     "text": [
      "                   all         10        109      0.273      0.404      0.317     0.0809\n"
     ]
    },
    {
     "name": "stderr",
     "output_type": "stream",
     "text": [
      "\n"
     ]
    },
    {
     "name": "stdout",
     "output_type": "stream",
     "text": [
      "\n",
      "      Epoch    GPU_mem   box_loss   cls_loss   dfl_loss  Instances       Size\n"
     ]
    },
    {
     "name": "stderr",
     "output_type": "stream",
     "text": [
      "      22/50         0G        2.1      1.584      1.085         82        640: 100%|██████████| 4/4 [00:28<00:00,  7.25\n",
      "                 Class     Images  Instances      Box(P          R      mAP50  mAP50-95): 100%|██████████| 1/1 [00:02<0"
     ]
    },
    {
     "name": "stdout",
     "output_type": "stream",
     "text": [
      "                   all         10        109      0.552      0.349       0.45      0.123\n"
     ]
    },
    {
     "name": "stderr",
     "output_type": "stream",
     "text": [
      "\n"
     ]
    },
    {
     "name": "stdout",
     "output_type": "stream",
     "text": [
      "\n",
      "      Epoch    GPU_mem   box_loss   cls_loss   dfl_loss  Instances       Size\n"
     ]
    },
    {
     "name": "stderr",
     "output_type": "stream",
     "text": [
      "      23/50         0G      2.086      1.525       1.13         92        640: 100%|██████████| 4/4 [00:29<00:00,  7.41\n",
      "                 Class     Images  Instances      Box(P          R      mAP50  mAP50-95): 100%|██████████| 1/1 [00:02<0"
     ]
    },
    {
     "name": "stdout",
     "output_type": "stream",
     "text": [
      "                   all         10        109      0.705      0.329      0.529      0.162\n"
     ]
    },
    {
     "name": "stderr",
     "output_type": "stream",
     "text": [
      "\n"
     ]
    },
    {
     "name": "stdout",
     "output_type": "stream",
     "text": [
      "\n",
      "      Epoch    GPU_mem   box_loss   cls_loss   dfl_loss  Instances       Size\n"
     ]
    },
    {
     "name": "stderr",
     "output_type": "stream",
     "text": [
      "      24/50         0G      2.436      1.635      1.205         46        640: 100%|██████████| 4/4 [00:30<00:00,  7.56\n",
      "                 Class     Images  Instances      Box(P          R      mAP50  mAP50-95): 100%|██████████| 1/1 [00:02<0"
     ]
    },
    {
     "name": "stdout",
     "output_type": "stream",
     "text": [
      "                   all         10        109      0.631      0.358      0.523      0.158\n"
     ]
    },
    {
     "name": "stderr",
     "output_type": "stream",
     "text": [
      "\n"
     ]
    },
    {
     "name": "stdout",
     "output_type": "stream",
     "text": [
      "\n",
      "      Epoch    GPU_mem   box_loss   cls_loss   dfl_loss  Instances       Size\n"
     ]
    },
    {
     "name": "stderr",
     "output_type": "stream",
     "text": [
      "      25/50         0G      2.097      1.416      1.096         42        640: 100%|██████████| 4/4 [00:30<00:00,  7.52\n",
      "                 Class     Images  Instances      Box(P          R      mAP50  mAP50-95): 100%|██████████| 1/1 [00:02<0"
     ]
    },
    {
     "name": "stdout",
     "output_type": "stream",
     "text": [
      "                   all         10        109      0.372      0.294      0.357     0.0969\n"
     ]
    },
    {
     "name": "stderr",
     "output_type": "stream",
     "text": [
      "\n"
     ]
    },
    {
     "name": "stdout",
     "output_type": "stream",
     "text": [
      "\n",
      "      Epoch    GPU_mem   box_loss   cls_loss   dfl_loss  Instances       Size\n"
     ]
    },
    {
     "name": "stderr",
     "output_type": "stream",
     "text": [
      "      26/50         0G      2.177      1.568      1.127         54        640: 100%|██████████| 4/4 [00:30<00:00,  7.70\n",
      "                 Class     Images  Instances      Box(P          R      mAP50  mAP50-95): 100%|██████████| 1/1 [00:02<0"
     ]
    },
    {
     "name": "stdout",
     "output_type": "stream",
     "text": [
      "                   all         10        109       0.28      0.368      0.272     0.0751\n"
     ]
    },
    {
     "name": "stderr",
     "output_type": "stream",
     "text": [
      "\n"
     ]
    },
    {
     "name": "stdout",
     "output_type": "stream",
     "text": [
      "\n",
      "      Epoch    GPU_mem   box_loss   cls_loss   dfl_loss  Instances       Size\n"
     ]
    },
    {
     "name": "stderr",
     "output_type": "stream",
     "text": [
      "      27/50         0G        2.1      1.747      1.143         24        640: 100%|██████████| 4/4 [00:29<00:00,  7.49\n",
      "                 Class     Images  Instances      Box(P          R      mAP50  mAP50-95): 100%|██████████| 1/1 [00:02<0"
     ]
    },
    {
     "name": "stdout",
     "output_type": "stream",
     "text": [
      "                   all         10        109      0.258      0.339      0.293     0.0858\n"
     ]
    },
    {
     "name": "stderr",
     "output_type": "stream",
     "text": [
      "\n"
     ]
    },
    {
     "name": "stdout",
     "output_type": "stream",
     "text": [
      "\n",
      "      Epoch    GPU_mem   box_loss   cls_loss   dfl_loss  Instances       Size\n"
     ]
    },
    {
     "name": "stderr",
     "output_type": "stream",
     "text": [
      "      28/50         0G      2.012       1.63      1.022         18        640: 100%|██████████| 4/4 [00:30<00:00,  7.64\n",
      "                 Class     Images  Instances      Box(P          R      mAP50  mAP50-95): 100%|██████████| 1/1 [00:02<0"
     ]
    },
    {
     "name": "stdout",
     "output_type": "stream",
     "text": [
      "                   all         10        109      0.278      0.367      0.323      0.096\n"
     ]
    },
    {
     "name": "stderr",
     "output_type": "stream",
     "text": [
      "\n"
     ]
    },
    {
     "name": "stdout",
     "output_type": "stream",
     "text": [
      "\n",
      "      Epoch    GPU_mem   box_loss   cls_loss   dfl_loss  Instances       Size\n"
     ]
    },
    {
     "name": "stderr",
     "output_type": "stream",
     "text": [
      "      29/50         0G      2.053      1.481       1.08         34        640: 100%|██████████| 4/4 [00:30<00:00,  7.57\n",
      "                 Class     Images  Instances      Box(P          R      mAP50  mAP50-95): 100%|██████████| 1/1 [00:02<0"
     ]
    },
    {
     "name": "stdout",
     "output_type": "stream",
     "text": [
      "                   all         10        109      0.275      0.505      0.326     0.0994\n"
     ]
    },
    {
     "name": "stderr",
     "output_type": "stream",
     "text": [
      "\n"
     ]
    },
    {
     "name": "stdout",
     "output_type": "stream",
     "text": [
      "\n",
      "      Epoch    GPU_mem   box_loss   cls_loss   dfl_loss  Instances       Size\n"
     ]
    },
    {
     "name": "stderr",
     "output_type": "stream",
     "text": [
      "      30/50         0G      2.066        1.4      1.043         57        640: 100%|██████████| 4/4 [00:29<00:00,  7.44\n",
      "                 Class     Images  Instances      Box(P          R      mAP50  mAP50-95): 100%|██████████| 1/1 [00:02<0"
     ]
    },
    {
     "name": "stdout",
     "output_type": "stream",
     "text": [
      "                   all         10        109      0.291      0.587      0.338      0.102\n"
     ]
    },
    {
     "name": "stderr",
     "output_type": "stream",
     "text": [
      "\n"
     ]
    },
    {
     "name": "stdout",
     "output_type": "stream",
     "text": [
      "\n",
      "      Epoch    GPU_mem   box_loss   cls_loss   dfl_loss  Instances       Size\n"
     ]
    },
    {
     "name": "stderr",
     "output_type": "stream",
     "text": [
      "      31/50         0G      2.049      1.552      1.081         30        640: 100%|██████████| 4/4 [00:29<00:00,  7.44\n",
      "                 Class     Images  Instances      Box(P          R      mAP50  mAP50-95): 100%|██████████| 1/1 [00:02<0"
     ]
    },
    {
     "name": "stdout",
     "output_type": "stream",
     "text": [
      "                   all         10        109      0.325      0.632      0.396      0.106\n"
     ]
    },
    {
     "name": "stderr",
     "output_type": "stream",
     "text": [
      "\n"
     ]
    },
    {
     "name": "stdout",
     "output_type": "stream",
     "text": [
      "\n",
      "      Epoch    GPU_mem   box_loss   cls_loss   dfl_loss  Instances       Size\n"
     ]
    },
    {
     "name": "stderr",
     "output_type": "stream",
     "text": [
      "      32/50         0G      2.015      1.372      1.084         26        640: 100%|██████████| 4/4 [00:29<00:00,  7.36\n",
      "                 Class     Images  Instances      Box(P          R      mAP50  mAP50-95): 100%|██████████| 1/1 [00:02<0"
     ]
    },
    {
     "name": "stdout",
     "output_type": "stream",
     "text": [
      "                   all         10        109      0.308      0.595      0.363     0.0966\n"
     ]
    },
    {
     "name": "stderr",
     "output_type": "stream",
     "text": [
      "\n"
     ]
    },
    {
     "name": "stdout",
     "output_type": "stream",
     "text": [
      "\n",
      "      Epoch    GPU_mem   box_loss   cls_loss   dfl_loss  Instances       Size\n"
     ]
    },
    {
     "name": "stderr",
     "output_type": "stream",
     "text": [
      "      33/50         0G      1.924      1.514      1.093         16        640: 100%|██████████| 4/4 [00:28<00:00,  7.24\n",
      "                 Class     Images  Instances      Box(P          R      mAP50  mAP50-95): 100%|██████████| 1/1 [00:02<0"
     ]
    },
    {
     "name": "stdout",
     "output_type": "stream",
     "text": [
      "                   all         10        109      0.303       0.56      0.364     0.0927\n"
     ]
    },
    {
     "name": "stderr",
     "output_type": "stream",
     "text": [
      "\n"
     ]
    },
    {
     "name": "stdout",
     "output_type": "stream",
     "text": [
      "\n",
      "      Epoch    GPU_mem   box_loss   cls_loss   dfl_loss  Instances       Size\n"
     ]
    },
    {
     "name": "stderr",
     "output_type": "stream",
     "text": [
      "      34/50         0G      1.923      1.414      1.113         22        640: 100%|██████████| 4/4 [00:29<00:00,  7.37\n",
      "                 Class     Images  Instances      Box(P          R      mAP50  mAP50-95): 100%|██████████| 1/1 [00:02<0"
     ]
    },
    {
     "name": "stdout",
     "output_type": "stream",
     "text": [
      "                   all         10        109       0.36      0.606      0.475      0.117\n"
     ]
    },
    {
     "name": "stderr",
     "output_type": "stream",
     "text": [
      "\n"
     ]
    },
    {
     "name": "stdout",
     "output_type": "stream",
     "text": [
      "\n",
      "      Epoch    GPU_mem   box_loss   cls_loss   dfl_loss  Instances       Size\n"
     ]
    },
    {
     "name": "stderr",
     "output_type": "stream",
     "text": [
      "      35/50         0G      2.158      1.462      1.078         26        640: 100%|██████████| 4/4 [00:30<00:00,  7.68\n",
      "                 Class     Images  Instances      Box(P          R      mAP50  mAP50-95): 100%|██████████| 1/1 [00:02<0"
     ]
    },
    {
     "name": "stdout",
     "output_type": "stream",
     "text": [
      "                   all         10        109      0.421      0.642      0.524      0.141\n"
     ]
    },
    {
     "name": "stderr",
     "output_type": "stream",
     "text": [
      "\n"
     ]
    },
    {
     "name": "stdout",
     "output_type": "stream",
     "text": [
      "\n",
      "      Epoch    GPU_mem   box_loss   cls_loss   dfl_loss  Instances       Size\n"
     ]
    },
    {
     "name": "stderr",
     "output_type": "stream",
     "text": [
      "      36/50         0G      2.104      1.425      1.131         19        640: 100%|██████████| 4/4 [00:29<00:00,  7.42\n",
      "                 Class     Images  Instances      Box(P          R      mAP50  mAP50-95): 100%|██████████| 1/1 [00:02<0"
     ]
    },
    {
     "name": "stdout",
     "output_type": "stream",
     "text": [
      "                   all         10        109      0.368      0.619      0.457      0.129\n"
     ]
    },
    {
     "name": "stderr",
     "output_type": "stream",
     "text": [
      "\n"
     ]
    },
    {
     "name": "stdout",
     "output_type": "stream",
     "text": [
      "\n",
      "      Epoch    GPU_mem   box_loss   cls_loss   dfl_loss  Instances       Size\n"
     ]
    },
    {
     "name": "stderr",
     "output_type": "stream",
     "text": [
      "      37/50         0G      2.142      1.441      1.081         82        640: 100%|██████████| 4/4 [00:29<00:00,  7.30\n",
      "                 Class     Images  Instances      Box(P          R      mAP50  mAP50-95): 100%|██████████| 1/1 [00:02<0"
     ]
    },
    {
     "name": "stdout",
     "output_type": "stream",
     "text": [
      "                   all         10        109      0.325      0.698      0.404      0.123\n"
     ]
    },
    {
     "name": "stderr",
     "output_type": "stream",
     "text": [
      "\n"
     ]
    },
    {
     "name": "stdout",
     "output_type": "stream",
     "text": [
      "\n",
      "      Epoch    GPU_mem   box_loss   cls_loss   dfl_loss  Instances       Size\n"
     ]
    },
    {
     "name": "stderr",
     "output_type": "stream",
     "text": [
      "      38/50         0G      2.002      1.413      1.017         18        640: 100%|██████████| 4/4 [00:30<00:00,  7.66\n",
      "                 Class     Images  Instances      Box(P          R      mAP50  mAP50-95): 100%|██████████| 1/1 [00:02<0"
     ]
    },
    {
     "name": "stdout",
     "output_type": "stream",
     "text": [
      "                   all         10        109      0.275      0.705      0.344      0.109\n"
     ]
    },
    {
     "name": "stderr",
     "output_type": "stream",
     "text": [
      "\n"
     ]
    },
    {
     "name": "stdout",
     "output_type": "stream",
     "text": [
      "\n",
      "      Epoch    GPU_mem   box_loss   cls_loss   dfl_loss  Instances       Size\n"
     ]
    },
    {
     "name": "stderr",
     "output_type": "stream",
     "text": [
      "      39/50         0G      2.129      1.487      1.017         84        640: 100%|██████████| 4/4 [00:29<00:00,  7.42\n",
      "                 Class     Images  Instances      Box(P          R      mAP50  mAP50-95): 100%|██████████| 1/1 [00:02<0"
     ]
    },
    {
     "name": "stdout",
     "output_type": "stream",
     "text": [
      "                   all         10        109       0.26      0.725      0.284     0.0934\n"
     ]
    },
    {
     "name": "stderr",
     "output_type": "stream",
     "text": [
      "\n"
     ]
    },
    {
     "name": "stdout",
     "output_type": "stream",
     "text": [
      "\n",
      "      Epoch    GPU_mem   box_loss   cls_loss   dfl_loss  Instances       Size\n"
     ]
    },
    {
     "name": "stderr",
     "output_type": "stream",
     "text": [
      "      40/50         0G      1.944      1.443      1.075         27        640: 100%|██████████| 4/4 [00:31<00:00,  7.77\n",
      "                 Class     Images  Instances      Box(P          R      mAP50  mAP50-95): 100%|██████████| 1/1 [00:02<0"
     ]
    },
    {
     "name": "stdout",
     "output_type": "stream",
     "text": [
      "                   all         10        109      0.248      0.697      0.259     0.0886\n"
     ]
    },
    {
     "name": "stderr",
     "output_type": "stream",
     "text": [
      "\n"
     ]
    },
    {
     "name": "stdout",
     "output_type": "stream",
     "text": [
      "Closing dataloader mosaic\n",
      "\n",
      "      Epoch    GPU_mem   box_loss   cls_loss   dfl_loss  Instances       Size\n"
     ]
    },
    {
     "name": "stderr",
     "output_type": "stream",
     "text": [
      "'pin_memory' argument is set as true but no accelerator is found, then device pinned memory won't be used.\n",
      "      41/50         0G      1.991      1.451      1.052         48        640: 100%|██████████| 4/4 [00:30<00:00,  7.58\n",
      "                 Class     Images  Instances      Box(P          R      mAP50  mAP50-95): 100%|██████████| 1/1 [00:02<0"
     ]
    },
    {
     "name": "stdout",
     "output_type": "stream",
     "text": [
      "                   all         10        109      0.275      0.703      0.318      0.107\n"
     ]
    },
    {
     "name": "stderr",
     "output_type": "stream",
     "text": [
      "\n"
     ]
    },
    {
     "name": "stdout",
     "output_type": "stream",
     "text": [
      "\n",
      "      Epoch    GPU_mem   box_loss   cls_loss   dfl_loss  Instances       Size\n"
     ]
    },
    {
     "name": "stderr",
     "output_type": "stream",
     "text": [
      "      42/50         0G      1.928      1.446      1.034         15        640: 100%|██████████| 4/4 [00:29<00:00,  7.26\n",
      "                 Class     Images  Instances      Box(P          R      mAP50  mAP50-95): 100%|██████████| 1/1 [00:02<0"
     ]
    },
    {
     "name": "stdout",
     "output_type": "stream",
     "text": [
      "                   all         10        109      0.392      0.688      0.447      0.141\n"
     ]
    },
    {
     "name": "stderr",
     "output_type": "stream",
     "text": [
      "\n"
     ]
    },
    {
     "name": "stdout",
     "output_type": "stream",
     "text": [
      "\n",
      "      Epoch    GPU_mem   box_loss   cls_loss   dfl_loss  Instances       Size\n"
     ]
    },
    {
     "name": "stderr",
     "output_type": "stream",
     "text": [
      "      43/50         0G      1.844      1.382      1.097         16        640: 100%|██████████| 4/4 [00:29<00:00,  7.41\n",
      "                 Class     Images  Instances      Box(P          R      mAP50  mAP50-95): 100%|██████████| 1/1 [00:02<0"
     ]
    },
    {
     "name": "stdout",
     "output_type": "stream",
     "text": [
      "                   all         10        109      0.481      0.725      0.527      0.177\n"
     ]
    },
    {
     "name": "stderr",
     "output_type": "stream",
     "text": [
      "\n"
     ]
    },
    {
     "name": "stdout",
     "output_type": "stream",
     "text": [
      "\n",
      "      Epoch    GPU_mem   box_loss   cls_loss   dfl_loss  Instances       Size\n"
     ]
    },
    {
     "name": "stderr",
     "output_type": "stream",
     "text": [
      "      44/50         0G      1.948      1.456      1.082         45        640: 100%|██████████| 4/4 [00:30<00:00,  7.51\n",
      "                 Class     Images  Instances      Box(P          R      mAP50  mAP50-95): 100%|██████████| 1/1 [00:02<0"
     ]
    },
    {
     "name": "stdout",
     "output_type": "stream",
     "text": [
      "                   all         10        109      0.489      0.734       0.54      0.194\n"
     ]
    },
    {
     "name": "stderr",
     "output_type": "stream",
     "text": [
      "\n"
     ]
    },
    {
     "name": "stdout",
     "output_type": "stream",
     "text": [
      "\n",
      "      Epoch    GPU_mem   box_loss   cls_loss   dfl_loss  Instances       Size\n"
     ]
    },
    {
     "name": "stderr",
     "output_type": "stream",
     "text": [
      "      45/50         0G      2.018      1.515      1.068         15        640: 100%|██████████| 4/4 [00:30<00:00,  7.62\n",
      "                 Class     Images  Instances      Box(P          R      mAP50  mAP50-95): 100%|██████████| 1/1 [00:02<0"
     ]
    },
    {
     "name": "stdout",
     "output_type": "stream",
     "text": [
      "                   all         10        109      0.484      0.767      0.542      0.185\n"
     ]
    },
    {
     "name": "stderr",
     "output_type": "stream",
     "text": [
      "\n"
     ]
    },
    {
     "name": "stdout",
     "output_type": "stream",
     "text": [
      "\n",
      "      Epoch    GPU_mem   box_loss   cls_loss   dfl_loss  Instances       Size\n"
     ]
    },
    {
     "name": "stderr",
     "output_type": "stream",
     "text": [
      "      46/50         0G      1.993      1.493      1.052         19        640: 100%|██████████| 4/4 [00:30<00:00,  7.58\n",
      "                 Class     Images  Instances      Box(P          R      mAP50  mAP50-95): 100%|██████████| 1/1 [00:02<0"
     ]
    },
    {
     "name": "stdout",
     "output_type": "stream",
     "text": [
      "                   all         10        109       0.42      0.697      0.472      0.162\n"
     ]
    },
    {
     "name": "stderr",
     "output_type": "stream",
     "text": [
      "\n"
     ]
    },
    {
     "name": "stdout",
     "output_type": "stream",
     "text": [
      "\n",
      "      Epoch    GPU_mem   box_loss   cls_loss   dfl_loss  Instances       Size\n"
     ]
    },
    {
     "name": "stderr",
     "output_type": "stream",
     "text": [
      "      47/50         0G      1.799      1.324       1.07         37        640: 100%|██████████| 4/4 [00:28<00:00,  7.15\n",
      "                 Class     Images  Instances      Box(P          R      mAP50  mAP50-95): 100%|██████████| 1/1 [00:02<0"
     ]
    },
    {
     "name": "stdout",
     "output_type": "stream",
     "text": [
      "                   all         10        109      0.384      0.679      0.455      0.146\n"
     ]
    },
    {
     "name": "stderr",
     "output_type": "stream",
     "text": [
      "\n"
     ]
    },
    {
     "name": "stdout",
     "output_type": "stream",
     "text": [
      "\n",
      "      Epoch    GPU_mem   box_loss   cls_loss   dfl_loss  Instances       Size\n"
     ]
    },
    {
     "name": "stderr",
     "output_type": "stream",
     "text": [
      "      48/50         0G      1.813      1.345      1.061         20        640: 100%|██████████| 4/4 [00:28<00:00,  7.21\n",
      "                 Class     Images  Instances      Box(P          R      mAP50  mAP50-95): 100%|██████████| 1/1 [00:02<0"
     ]
    },
    {
     "name": "stdout",
     "output_type": "stream",
     "text": [
      "                   all         10        109      0.323      0.734      0.433      0.133\n"
     ]
    },
    {
     "name": "stderr",
     "output_type": "stream",
     "text": [
      "\n"
     ]
    },
    {
     "name": "stdout",
     "output_type": "stream",
     "text": [
      "\n",
      "      Epoch    GPU_mem   box_loss   cls_loss   dfl_loss  Instances       Size\n"
     ]
    },
    {
     "name": "stderr",
     "output_type": "stream",
     "text": [
      "      49/50         0G      1.939      1.368      1.035         25        640: 100%|██████████| 4/4 [00:28<00:00,  7.24\n",
      "                 Class     Images  Instances      Box(P          R      mAP50  mAP50-95): 100%|██████████| 1/1 [00:02<0"
     ]
    },
    {
     "name": "stdout",
     "output_type": "stream",
     "text": [
      "                   all         10        109      0.326      0.761      0.418      0.122\n"
     ]
    },
    {
     "name": "stderr",
     "output_type": "stream",
     "text": [
      "\n"
     ]
    },
    {
     "name": "stdout",
     "output_type": "stream",
     "text": [
      "\n",
      "      Epoch    GPU_mem   box_loss   cls_loss   dfl_loss  Instances       Size\n"
     ]
    },
    {
     "name": "stderr",
     "output_type": "stream",
     "text": [
      "      50/50         0G      1.833      1.399     0.9999         22        640: 100%|██████████| 4/4 [00:28<00:00,  7.18\n",
      "                 Class     Images  Instances      Box(P          R      mAP50  mAP50-95): 100%|██████████| 1/1 [00:02<0"
     ]
    },
    {
     "name": "stdout",
     "output_type": "stream",
     "text": [
      "                   all         10        109      0.326      0.752      0.404       0.12\n"
     ]
    },
    {
     "name": "stderr",
     "output_type": "stream",
     "text": [
      "\n"
     ]
    },
    {
     "name": "stdout",
     "output_type": "stream",
     "text": [
      "\n",
      "50 epochs completed in 0.468 hours.\n",
      "Optimizer stripped from runs\\detect\\yolov8_find_ship3\\weights\\last.pt, 6.2MB\n",
      "Optimizer stripped from runs\\detect\\yolov8_find_ship3\\weights\\best.pt, 6.2MB\n",
      "\n",
      "Validating runs\\detect\\yolov8_find_ship3\\weights\\best.pt...\n",
      "Ultralytics 8.3.144  Python-3.9.0 torch-2.7.0+cpu CPU (Intel Core(TM) i9-14900HX)\n",
      "Model summary (fused): 72 layers, 3,005,843 parameters, 0 gradients, 8.1 GFLOPs\n"
     ]
    },
    {
     "name": "stderr",
     "output_type": "stream",
     "text": [
      "                 Class     Images  Instances      Box(P          R      mAP50  mAP50-95): 100%|██████████| 1/1 [00:02<0\n"
     ]
    },
    {
     "name": "stdout",
     "output_type": "stream",
     "text": [
      "                   all         10        109      0.501      0.688       0.54      0.195\n",
      "Speed: 6.2ms preprocess, 152.1ms inference, 0.0ms loss, 41.6ms postprocess per image\n",
      "Results saved to \u001B[1mruns\\detect\\yolov8_find_ship3\u001B[0m\n"
     ]
    }
   ],
   "source": [
    "from roboflow import Roboflow\n",
    "from ultralytics import YOLO\n",
    "\n",
    "rf = Roboflow(api_key=\"\")\n",
    "project = rf.workspace(\"capstone-lfhs6\").project(\"find_ship\")\n",
    "version = project.version(1)\n",
    "dataset = version.download(\"yolov8\")\n",
    "\n",
    "\n",
    "\n",
    "model = YOLO(\"yolov8n.pt\")\n",
    "\n",
    "# 모델 학습\n",
    "results = model.train(\n",
    "    data=dataset.location + \"/data.yaml\",\n",
    "    epochs=50,\n",
    "    imgsz=640,\n",
    "    batch=16,\n",
    "    name=\"yolov8_find_ship\",\n",
    ")"
   ]
  },
  {
   "cell_type": "code",
   "execution_count": 14,
   "id": "76bf4d4a64ad5c5a",
   "metadata": {},
   "outputs": [
    {
     "name": "stdout",
     "output_type": "stream",
     "text": [
      "Ultralytics 8.3.144  Python-3.9.0 torch-2.7.0+cpu CPU (Intel Core(TM) i9-14900HX)\n",
      "Model summary (fused): 72 layers, 3,005,843 parameters, 0 gradients, 8.1 GFLOPs\n",
      "\u001B[34m\u001B[1mval: \u001B[0mFast image access  (ping: 0.20.0 ms, read: 58.03.8 MB/s, size: 40.0 KB)\n"
     ]
    },
    {
     "name": "stderr",
     "output_type": "stream",
     "text": [
      "\u001B[34m\u001B[1mval: \u001B[0mScanning D:\\0. 대학원\\3학기\\capstone\\find_ship-1\\valid\\labels.cache... 10 images, 0 backgrounds, 0 corrupt: 100%|█\u001B[0m\n",
      "'pin_memory' argument is set as true but no accelerator is found, then device pinned memory won't be used.\n",
      "                 Class     Images  Instances      Box(P          R      mAP50  mAP50-95): 100%|██████████| 1/1 [00:01<0\n"
     ]
    },
    {
     "name": "stdout",
     "output_type": "stream",
     "text": [
      "                   all         10        109      0.501      0.688       0.54      0.195\n",
      "Speed: 1.5ms preprocess, 138.1ms inference, 0.0ms loss, 40.8ms postprocess per image\n",
      "Results saved to \u001B[1mruns\\detect\\yolov8_find_ship32\u001B[0m\n",
      "mAP50:  0.5401161852938648\n",
      "mAP50-95:  0.19454045234908096\n"
     ]
    }
   ],
   "source": [
    "val_results = model.val(\n",
    "    data=dataset.location + \"/data.yaml\"\n",
    ")\n",
    "\n",
    "print(\"mAP50: \", val_results.box.map50)\n",
    "print(\"mAP50-95: \", val_results.box.map)"
   ]
  },
  {
   "cell_type": "code",
   "execution_count": 16,
   "id": "3fbad8b72b473f34",
   "metadata": {},
   "outputs": [
    {
     "name": "stdout",
     "output_type": "stream",
     "text": [
      "\n",
      "image 1/10 D:\\0. \\3\\capstone\\find_ship-1\\test\\images\\x1010_png.rf.cac481ea9b2c280ffb40f1d9a876790d.jpg: 640x640 1 0, 380.0ms\n",
      "image 2/10 D:\\0. \\3\\capstone\\find_ship-1\\test\\images\\x1030_png.rf.6a516da2ab77e0cb935789a90c5628f3.jpg: 640x640 1 0, 324.2ms\n",
      "image 3/10 D:\\0. \\3\\capstone\\find_ship-1\\test\\images\\x1034_png.rf.b87e06a4229b4fc62be202b3df73b990.jpg: 640x640 (no detections), 259.1ms\n",
      "image 4/10 D:\\0. \\3\\capstone\\find_ship-1\\test\\images\\x1036_png.rf.07fb5c79c96d3d252a7a0f3db4512a82.jpg: 640x640 1 0, 342.9ms\n",
      "image 5/10 D:\\0. \\3\\capstone\\find_ship-1\\test\\images\\y0007_png.rf.1d59dcd8a647f6e19f2ab92eac4dc131.jpg: 640x640 7 0s, 290.0ms\n",
      "image 6/10 D:\\0. \\3\\capstone\\find_ship-1\\test\\images\\y0020_png.rf.8677a65b4a0e6ab9b73baca772fad039.jpg: 640x640 2 0s, 293.8ms\n",
      "image 7/10 D:\\0. \\3\\capstone\\find_ship-1\\test\\images\\y0024_png.rf.6dace7929bf56651fffa6ea8f714788e.jpg: 640x640 (no detections), 289.7ms\n",
      "image 8/10 D:\\0. \\3\\capstone\\find_ship-1\\test\\images\\y0032_png.rf.288e16c2f45ec45eec216107d5de6464.jpg: 640x640 10 0s, 286.1ms\n",
      "image 9/10 D:\\0. \\3\\capstone\\find_ship-1\\test\\images\\y0034_png.rf.2fc625deac87838ef81742e96e1d92b5.jpg: 640x640 5 0s, 276.3ms\n",
      "image 10/10 D:\\0. \\3\\capstone\\find_ship-1\\test\\images\\y0034_png.rf.f6d9bece97d25f4ded8074f6844643fc.jpg: 640x640 5 0s, 231.9ms\n",
      "Speed: 6.8ms preprocess, 297.4ms inference, 3.1ms postprocess per image at shape (1, 3, 640, 640)\n",
      "Results saved to \u001B[1mruns\\detect\\test_results\u001B[0m\n"
     ]
    },
    {
     "data": {
      "text/plain": [
       "[ultralytics.engine.results.Results object with attributes:\n",
       " \n",
       " boxes: ultralytics.engine.results.Boxes object\n",
       " keypoints: None\n",
       " masks: None\n",
       " names: {0: '0'}\n",
       " obb: None\n",
       " orig_img: array([[[62, 68, 75],\n",
       "         [64, 70, 77],\n",
       "         [66, 72, 77],\n",
       "         ...,\n",
       "         [61, 64, 38],\n",
       "         [61, 64, 38],\n",
       "         [61, 64, 38]],\n",
       " \n",
       "        [[61, 67, 74],\n",
       "         [64, 70, 75],\n",
       "         [66, 72, 77],\n",
       "         ...,\n",
       "         [61, 64, 38],\n",
       "         [61, 64, 38],\n",
       "         [61, 64, 38]],\n",
       " \n",
       "        [[57, 63, 68],\n",
       "         [59, 66, 69],\n",
       "         [62, 69, 72],\n",
       "         ...,\n",
       "         [61, 64, 38],\n",
       "         [61, 64, 38],\n",
       "         [61, 64, 38]],\n",
       " \n",
       "        ...,\n",
       " \n",
       "        [[88, 84, 73],\n",
       "         [77, 73, 62],\n",
       "         [59, 57, 46],\n",
       "         ...,\n",
       "         [62, 67, 36],\n",
       "         [62, 67, 36],\n",
       "         [62, 67, 36]],\n",
       " \n",
       "        [[85, 83, 72],\n",
       "         [74, 72, 61],\n",
       "         [57, 55, 44],\n",
       "         ...,\n",
       "         [62, 67, 36],\n",
       "         [62, 67, 36],\n",
       "         [62, 67, 36]],\n",
       " \n",
       "        [[80, 78, 67],\n",
       "         [68, 66, 55],\n",
       "         [51, 49, 38],\n",
       "         ...,\n",
       "         [62, 67, 36],\n",
       "         [62, 67, 36],\n",
       "         [62, 67, 36]]], dtype=uint8)\n",
       " orig_shape: (640, 640)\n",
       " path: 'D:\\\\0. 대학원\\\\3학기\\\\capstone\\\\find_ship-1\\\\test\\\\images\\\\x1010_png.rf.cac481ea9b2c280ffb40f1d9a876790d.jpg'\n",
       " probs: None\n",
       " save_dir: 'runs\\\\detect\\\\test_results'\n",
       " speed: {'preprocess': 4.33279999970182, 'inference': 379.9956999996539, 'postprocess': 5.659599999944476},\n",
       " ultralytics.engine.results.Results object with attributes:\n",
       " \n",
       " boxes: ultralytics.engine.results.Boxes object\n",
       " keypoints: None\n",
       " masks: None\n",
       " names: {0: '0'}\n",
       " obb: None\n",
       " orig_img: array([[[ 30,  45,  41],\n",
       "         [ 30,  45,  41],\n",
       "         [ 30,  45,  41],\n",
       "         ...,\n",
       "         [ 25,  32,  27],\n",
       "         [ 31,  38,  33],\n",
       "         [ 37,  44,  39]],\n",
       " \n",
       "        [[ 30,  45,  41],\n",
       "         [ 30,  45,  41],\n",
       "         [ 30,  45,  41],\n",
       "         ...,\n",
       "         [ 26,  33,  28],\n",
       "         [ 31,  38,  33],\n",
       "         [ 34,  41,  36]],\n",
       " \n",
       "        [[ 30,  45,  41],\n",
       "         [ 30,  45,  41],\n",
       "         [ 30,  45,  41],\n",
       "         ...,\n",
       "         [ 28,  35,  30],\n",
       "         [ 29,  36,  31],\n",
       "         [ 31,  38,  33]],\n",
       " \n",
       "        ...,\n",
       " \n",
       "        [[ 59,  94, 108],\n",
       "         [ 59,  94, 108],\n",
       "         [ 58,  93, 107],\n",
       "         ...,\n",
       "         [ 28,  34,  29],\n",
       "         [ 28,  34,  29],\n",
       "         [ 27,  33,  28]],\n",
       " \n",
       "        [[ 59,  94, 108],\n",
       "         [ 59,  94, 108],\n",
       "         [ 59,  94, 108],\n",
       "         ...,\n",
       "         [ 28,  34,  29],\n",
       "         [ 28,  34,  29],\n",
       "         [ 27,  33,  28]],\n",
       " \n",
       "        [[ 58,  93, 107],\n",
       "         [ 58,  93, 107],\n",
       "         [ 59,  94, 108],\n",
       "         ...,\n",
       "         [ 28,  34,  29],\n",
       "         [ 28,  34,  29],\n",
       "         [ 27,  33,  28]]], dtype=uint8)\n",
       " orig_shape: (640, 640)\n",
       " path: 'D:\\\\0. 대학원\\\\3학기\\\\capstone\\\\find_ship-1\\\\test\\\\images\\\\x1030_png.rf.6a516da2ab77e0cb935789a90c5628f3.jpg'\n",
       " probs: None\n",
       " save_dir: 'runs\\\\detect\\\\test_results'\n",
       " speed: {'preprocess': 7.56020000017088, 'inference': 324.23289999996996, 'postprocess': 3.165499999795429},\n",
       " ultralytics.engine.results.Results object with attributes:\n",
       " \n",
       " boxes: ultralytics.engine.results.Boxes object\n",
       " keypoints: None\n",
       " masks: None\n",
       " names: {0: '0'}\n",
       " obb: None\n",
       " orig_img: array([[[ 50,  57,  42],\n",
       "         [ 50,  57,  42],\n",
       "         [ 50,  57,  42],\n",
       "         ...,\n",
       "         [ 65,  84,  51],\n",
       "         [ 65,  84,  51],\n",
       "         [ 65,  84,  51]],\n",
       " \n",
       "        [[ 50,  57,  42],\n",
       "         [ 50,  57,  42],\n",
       "         [ 50,  57,  42],\n",
       "         ...,\n",
       "         [ 65,  84,  51],\n",
       "         [ 65,  84,  51],\n",
       "         [ 65,  84,  51]],\n",
       " \n",
       "        [[ 50,  57,  42],\n",
       "         [ 50,  57,  42],\n",
       "         [ 50,  57,  42],\n",
       "         ...,\n",
       "         [ 65,  84,  51],\n",
       "         [ 65,  84,  51],\n",
       "         [ 65,  84,  51]],\n",
       " \n",
       "        ...,\n",
       " \n",
       "        [[ 84, 113, 127],\n",
       "         [ 80, 109, 123],\n",
       "         [ 75, 104, 118],\n",
       "         ...,\n",
       "         [ 51,  75,  87],\n",
       "         [ 60,  84,  96],\n",
       "         [ 65,  89, 101]],\n",
       " \n",
       "        [[ 87, 116, 130],\n",
       "         [ 82, 111, 125],\n",
       "         [ 76, 108, 121],\n",
       "         ...,\n",
       "         [ 51,  75,  87],\n",
       "         [ 60,  84,  96],\n",
       "         [ 67,  91, 103]],\n",
       " \n",
       "        [[ 89, 118, 132],\n",
       "         [ 83, 112, 126],\n",
       "         [ 77, 109, 122],\n",
       "         ...,\n",
       "         [ 50,  74,  86],\n",
       "         [ 59,  83,  95],\n",
       "         [ 66,  90, 102]]], dtype=uint8)\n",
       " orig_shape: (640, 640)\n",
       " path: 'D:\\\\0. 대학원\\\\3학기\\\\capstone\\\\find_ship-1\\\\test\\\\images\\\\x1034_png.rf.b87e06a4229b4fc62be202b3df73b990.jpg'\n",
       " probs: None\n",
       " save_dir: 'runs\\\\detect\\\\test_results'\n",
       " speed: {'preprocess': 4.717499999969732, 'inference': 259.1011999998045, 'postprocess': 2.282699999796023},\n",
       " ultralytics.engine.results.Results object with attributes:\n",
       " \n",
       " boxes: ultralytics.engine.results.Boxes object\n",
       " keypoints: None\n",
       " masks: None\n",
       " names: {0: '0'}\n",
       " obb: None\n",
       " orig_img: array([[[ 29,  51,  57],\n",
       "         [ 29,  51,  57],\n",
       "         [ 29,  51,  57],\n",
       "         ...,\n",
       "         [ 46,  89,  98],\n",
       "         [ 37,  78,  87],\n",
       "         [ 29,  70,  79]],\n",
       " \n",
       "        [[ 31,  53,  59],\n",
       "         [ 30,  52,  58],\n",
       "         [ 30,  52,  58],\n",
       "         ...,\n",
       "         [ 51,  94, 103],\n",
       "         [ 44,  85,  94],\n",
       "         [ 36,  77,  86]],\n",
       " \n",
       "        [[ 33,  55,  61],\n",
       "         [ 32,  54,  60],\n",
       "         [ 31,  53,  59],\n",
       "         ...,\n",
       "         [ 56,  97, 106],\n",
       "         [ 50,  91, 100],\n",
       "         [ 44,  85,  94]],\n",
       " \n",
       "        ...,\n",
       " \n",
       "        [[ 29,  51,  57],\n",
       "         [ 28,  50,  56],\n",
       "         [ 28,  50,  56],\n",
       "         ...,\n",
       "         [ 22,  22,  16],\n",
       "         [ 24,  24,  18],\n",
       "         [ 25,  25,  19]],\n",
       " \n",
       "        [[ 28,  50,  56],\n",
       "         [ 28,  50,  56],\n",
       "         [ 27,  49,  55],\n",
       "         ...,\n",
       "         [ 23,  23,  17],\n",
       "         [ 22,  22,  16],\n",
       "         [ 22,  22,  16]],\n",
       " \n",
       "        [[ 28,  50,  56],\n",
       "         [ 27,  49,  55],\n",
       "         [ 27,  49,  55],\n",
       "         ...,\n",
       "         [ 24,  24,  18],\n",
       "         [ 21,  21,  15],\n",
       "         [ 20,  20,  14]]], dtype=uint8)\n",
       " orig_shape: (640, 640)\n",
       " path: 'D:\\\\0. 대학원\\\\3학기\\\\capstone\\\\find_ship-1\\\\test\\\\images\\\\x1036_png.rf.07fb5c79c96d3d252a7a0f3db4512a82.jpg'\n",
       " probs: None\n",
       " save_dir: 'runs\\\\detect\\\\test_results'\n",
       " speed: {'preprocess': 9.453399999983958, 'inference': 342.90720000035435, 'postprocess': 3.2433000001219625},\n",
       " ultralytics.engine.results.Results object with attributes:\n",
       " \n",
       " boxes: ultralytics.engine.results.Boxes object\n",
       " keypoints: None\n",
       " masks: None\n",
       " names: {0: '0'}\n",
       " obb: None\n",
       " orig_img: array([[[102, 112, 112],\n",
       "         [113, 123, 123],\n",
       "         [128, 138, 138],\n",
       "         ...,\n",
       "         [ 61,  84,  79],\n",
       "         [ 55,  79,  77],\n",
       "         [ 51,  75,  73]],\n",
       " \n",
       "        [[112, 122, 122],\n",
       "         [122, 132, 132],\n",
       "         [135, 145, 145],\n",
       "         ...,\n",
       "         [ 60,  83,  78],\n",
       "         [ 55,  79,  77],\n",
       "         [ 51,  75,  73]],\n",
       " \n",
       "        [[122, 132, 132],\n",
       "         [130, 140, 140],\n",
       "         [140, 150, 150],\n",
       "         ...,\n",
       "         [ 60,  83,  78],\n",
       "         [ 55,  79,  77],\n",
       "         [ 53,  77,  75]],\n",
       " \n",
       "        ...,\n",
       " \n",
       "        [[122, 128,  73],\n",
       "         [117, 123,  68],\n",
       "         [111, 117,  62],\n",
       "         ...,\n",
       "         [ 99, 118, 101],\n",
       "         [ 94, 113,  96],\n",
       "         [ 89, 108,  91]],\n",
       " \n",
       "        [[125, 131,  76],\n",
       "         [119, 125,  70],\n",
       "         [110, 116,  61],\n",
       "         ...,\n",
       "         [101, 120, 105],\n",
       "         [ 89, 108,  93],\n",
       "         [ 80,  99,  84]],\n",
       " \n",
       "        [[127, 133,  78],\n",
       "         [120, 126,  71],\n",
       "         [110, 116,  61],\n",
       "         ...,\n",
       "         [101, 120, 105],\n",
       "         [ 85, 104,  89],\n",
       "         [ 72,  91,  76]]], dtype=uint8)\n",
       " orig_shape: (640, 640)\n",
       " path: 'D:\\\\0. 대학원\\\\3학기\\\\capstone\\\\find_ship-1\\\\test\\\\images\\\\y0007_png.rf.1d59dcd8a647f6e19f2ab92eac4dc131.jpg'\n",
       " probs: None\n",
       " save_dir: 'runs\\\\detect\\\\test_results'\n",
       " speed: {'preprocess': 7.1727999998074665, 'inference': 290.0115000002188, 'postprocess': 2.2513999997499923},\n",
       " ultralytics.engine.results.Results object with attributes:\n",
       " \n",
       " boxes: ultralytics.engine.results.Boxes object\n",
       " keypoints: None\n",
       " masks: None\n",
       " names: {0: '0'}\n",
       " obb: None\n",
       " orig_img: array([[[ 66,  92,  79],\n",
       "         [ 66,  92,  79],\n",
       "         [ 66,  92,  79],\n",
       "         ...,\n",
       "         [ 41,  35,  22],\n",
       "         [ 41,  35,  22],\n",
       "         [ 41,  35,  22]],\n",
       " \n",
       "        [[ 70,  96,  83],\n",
       "         [ 69,  95,  82],\n",
       "         [ 68,  94,  81],\n",
       "         ...,\n",
       "         [ 41,  35,  22],\n",
       "         [ 41,  35,  22],\n",
       "         [ 41,  35,  22]],\n",
       " \n",
       "        [[ 74, 100,  87],\n",
       "         [ 73,  99,  86],\n",
       "         [ 72,  98,  85],\n",
       "         ...,\n",
       "         [ 41,  35,  22],\n",
       "         [ 41,  35,  22],\n",
       "         [ 41,  35,  22]],\n",
       " \n",
       "        ...,\n",
       " \n",
       "        [[ 53,  70,  56],\n",
       "         [ 49,  68,  53],\n",
       "         [ 44,  63,  48],\n",
       "         ...,\n",
       "         [ 39,  38,  24],\n",
       "         [ 39,  38,  24],\n",
       "         [ 39,  38,  24]],\n",
       " \n",
       "        [[ 52,  71,  56],\n",
       "         [ 48,  69,  54],\n",
       "         [ 44,  65,  50],\n",
       "         ...,\n",
       "         [ 39,  38,  24],\n",
       "         [ 39,  38,  24],\n",
       "         [ 39,  38,  24]],\n",
       " \n",
       "        [[ 48,  69,  54],\n",
       "         [ 46,  67,  52],\n",
       "         [ 43,  64,  49],\n",
       "         ...,\n",
       "         [ 39,  38,  24],\n",
       "         [ 39,  38,  24],\n",
       "         [ 39,  38,  24]]], dtype=uint8)\n",
       " orig_shape: (640, 640)\n",
       " path: 'D:\\\\0. 대학원\\\\3학기\\\\capstone\\\\find_ship-1\\\\test\\\\images\\\\y0020_png.rf.8677a65b4a0e6ab9b73baca772fad039.jpg'\n",
       " probs: None\n",
       " save_dir: 'runs\\\\detect\\\\test_results'\n",
       " speed: {'preprocess': 7.696799999848736, 'inference': 293.79900000003545, 'postprocess': 3.7038000000393367},\n",
       " ultralytics.engine.results.Results object with attributes:\n",
       " \n",
       " boxes: ultralytics.engine.results.Boxes object\n",
       " keypoints: None\n",
       " masks: None\n",
       " names: {0: '0'}\n",
       " obb: None\n",
       " orig_img: array([[[53, 82, 67],\n",
       "         [51, 80, 65],\n",
       "         [47, 78, 63],\n",
       "         ...,\n",
       "         [39, 39, 33],\n",
       "         [39, 39, 33],\n",
       "         [39, 39, 33]],\n",
       " \n",
       "        [[58, 87, 72],\n",
       "         [56, 85, 70],\n",
       "         [51, 82, 67],\n",
       "         ...,\n",
       "         [39, 39, 33],\n",
       "         [39, 39, 33],\n",
       "         [39, 39, 33]],\n",
       " \n",
       "        [[63, 91, 78],\n",
       "         [61, 89, 76],\n",
       "         [57, 87, 74],\n",
       "         ...,\n",
       "         [39, 39, 33],\n",
       "         [39, 39, 33],\n",
       "         [39, 39, 33]],\n",
       " \n",
       "        ...,\n",
       " \n",
       "        [[55, 73, 56],\n",
       "         [55, 73, 56],\n",
       "         [53, 72, 55],\n",
       "         ...,\n",
       "         [41, 38, 33],\n",
       "         [41, 38, 33],\n",
       "         [41, 38, 33]],\n",
       " \n",
       "        [[58, 77, 58],\n",
       "         [60, 79, 60],\n",
       "         [59, 78, 61],\n",
       "         ...,\n",
       "         [44, 41, 36],\n",
       "         [44, 41, 36],\n",
       "         [45, 42, 37]],\n",
       " \n",
       "        [[62, 81, 62],\n",
       "         [65, 84, 65],\n",
       "         [63, 82, 65],\n",
       "         ...,\n",
       "         [46, 43, 38],\n",
       "         [47, 44, 39],\n",
       "         [47, 44, 39]]], dtype=uint8)\n",
       " orig_shape: (640, 640)\n",
       " path: 'D:\\\\0. 대학원\\\\3학기\\\\capstone\\\\find_ship-1\\\\test\\\\images\\\\y0024_png.rf.6dace7929bf56651fffa6ea8f714788e.jpg'\n",
       " probs: None\n",
       " save_dir: 'runs\\\\detect\\\\test_results'\n",
       " speed: {'preprocess': 8.882100000391802, 'inference': 289.65210000023944, 'postprocess': 1.6507000000274274},\n",
       " ultralytics.engine.results.Results object with attributes:\n",
       " \n",
       " boxes: ultralytics.engine.results.Boxes object\n",
       " keypoints: None\n",
       " masks: None\n",
       " names: {0: '0'}\n",
       " obb: None\n",
       " orig_img: array([[[ 86,  91,  82],\n",
       "         [ 97, 102,  93],\n",
       "         [111, 116, 107],\n",
       "         ...,\n",
       "         [ 65,  76,  68],\n",
       "         [ 64,  75,  67],\n",
       "         [ 63,  74,  66]],\n",
       " \n",
       "        [[ 94,  99,  90],\n",
       "         [104, 109, 100],\n",
       "         [116, 121, 112],\n",
       "         ...,\n",
       "         [ 64,  75,  67],\n",
       "         [ 62,  73,  65],\n",
       "         [ 61,  72,  64]],\n",
       " \n",
       "        [[106, 110, 104],\n",
       "         [114, 118, 112],\n",
       "         [124, 129, 120],\n",
       "         ...,\n",
       "         [ 62,  73,  65],\n",
       "         [ 60,  71,  63],\n",
       "         [ 59,  70,  62]],\n",
       " \n",
       "        ...,\n",
       " \n",
       "        [[226, 235, 238],\n",
       "         [216, 225, 228],\n",
       "         [204, 214, 214],\n",
       "         ...,\n",
       "         [179, 176, 171],\n",
       "         [179, 173, 168],\n",
       "         [176, 170, 163]],\n",
       " \n",
       "        [[221, 230, 233],\n",
       "         [210, 219, 222],\n",
       "         [198, 208, 208],\n",
       "         ...,\n",
       "         [173, 170, 165],\n",
       "         [170, 164, 159],\n",
       "         [164, 158, 151]],\n",
       " \n",
       "        [[219, 228, 231],\n",
       "         [209, 218, 221],\n",
       "         [198, 208, 208],\n",
       "         ...,\n",
       "         [169, 166, 161],\n",
       "         [163, 157, 152],\n",
       "         [156, 150, 143]]], dtype=uint8)\n",
       " orig_shape: (640, 640)\n",
       " path: 'D:\\\\0. 대학원\\\\3학기\\\\capstone\\\\find_ship-1\\\\test\\\\images\\\\y0032_png.rf.288e16c2f45ec45eec216107d5de6464.jpg'\n",
       " probs: None\n",
       " save_dir: 'runs\\\\detect\\\\test_results'\n",
       " speed: {'preprocess': 6.709499999942636, 'inference': 286.0645000000659, 'postprocess': 3.573899999992136},\n",
       " ultralytics.engine.results.Results object with attributes:\n",
       " \n",
       " boxes: ultralytics.engine.results.Boxes object\n",
       " keypoints: None\n",
       " masks: None\n",
       " names: {0: '0'}\n",
       " obb: None\n",
       " orig_img: array([[[47, 58, 42],\n",
       "         [47, 58, 42],\n",
       "         [45, 56, 40],\n",
       "         ...,\n",
       "         [71, 82, 72],\n",
       "         [71, 82, 72],\n",
       "         [71, 82, 72]],\n",
       " \n",
       "        [[47, 58, 42],\n",
       "         [47, 58, 42],\n",
       "         [45, 56, 40],\n",
       "         ...,\n",
       "         [72, 83, 73],\n",
       "         [71, 82, 72],\n",
       "         [71, 82, 72]],\n",
       " \n",
       "        [[46, 57, 41],\n",
       "         [46, 57, 41],\n",
       "         [46, 57, 41],\n",
       "         ...,\n",
       "         [72, 83, 73],\n",
       "         [72, 83, 73],\n",
       "         [71, 82, 72]],\n",
       " \n",
       "        ...,\n",
       " \n",
       "        [[56, 75, 72],\n",
       "         [56, 75, 72],\n",
       "         [58, 78, 73],\n",
       "         ...,\n",
       "         [71, 93, 88],\n",
       "         [72, 94, 89],\n",
       "         [72, 94, 89]],\n",
       " \n",
       "        [[54, 73, 70],\n",
       "         [52, 71, 68],\n",
       "         [53, 73, 68],\n",
       "         ...,\n",
       "         [72, 94, 89],\n",
       "         [72, 94, 89],\n",
       "         [72, 94, 89]],\n",
       " \n",
       "        [[51, 70, 67],\n",
       "         [48, 67, 64],\n",
       "         [48, 68, 63],\n",
       "         ...,\n",
       "         [72, 94, 89],\n",
       "         [72, 94, 89],\n",
       "         [72, 94, 89]]], dtype=uint8)\n",
       " orig_shape: (640, 640)\n",
       " path: 'D:\\\\0. 대학원\\\\3학기\\\\capstone\\\\find_ship-1\\\\test\\\\images\\\\y0034_png.rf.2fc625deac87838ef81742e96e1d92b5.jpg'\n",
       " probs: None\n",
       " save_dir: 'runs\\\\detect\\\\test_results'\n",
       " speed: {'preprocess': 4.877899999883084, 'inference': 276.33109999987937, 'postprocess': 3.248499999699561},\n",
       " ultralytics.engine.results.Results object with attributes:\n",
       " \n",
       " boxes: ultralytics.engine.results.Boxes object\n",
       " keypoints: None\n",
       " masks: None\n",
       " names: {0: '0'}\n",
       " obb: None\n",
       " orig_img: array([[[47, 58, 42],\n",
       "         [47, 58, 42],\n",
       "         [45, 56, 40],\n",
       "         ...,\n",
       "         [71, 82, 72],\n",
       "         [71, 82, 72],\n",
       "         [71, 82, 72]],\n",
       " \n",
       "        [[47, 58, 42],\n",
       "         [47, 58, 42],\n",
       "         [45, 56, 40],\n",
       "         ...,\n",
       "         [72, 83, 73],\n",
       "         [71, 82, 72],\n",
       "         [71, 82, 72]],\n",
       " \n",
       "        [[46, 57, 41],\n",
       "         [46, 57, 41],\n",
       "         [46, 57, 41],\n",
       "         ...,\n",
       "         [72, 83, 73],\n",
       "         [72, 83, 73],\n",
       "         [71, 82, 72]],\n",
       " \n",
       "        ...,\n",
       " \n",
       "        [[56, 75, 72],\n",
       "         [56, 75, 72],\n",
       "         [58, 78, 73],\n",
       "         ...,\n",
       "         [71, 93, 88],\n",
       "         [72, 94, 89],\n",
       "         [72, 94, 89]],\n",
       " \n",
       "        [[54, 73, 70],\n",
       "         [52, 71, 68],\n",
       "         [53, 73, 68],\n",
       "         ...,\n",
       "         [72, 94, 89],\n",
       "         [72, 94, 89],\n",
       "         [72, 94, 89]],\n",
       " \n",
       "        [[51, 70, 67],\n",
       "         [48, 67, 64],\n",
       "         [48, 68, 63],\n",
       "         ...,\n",
       "         [72, 94, 89],\n",
       "         [72, 94, 89],\n",
       "         [72, 94, 89]]], dtype=uint8)\n",
       " orig_shape: (640, 640)\n",
       " path: 'D:\\\\0. 대학원\\\\3학기\\\\capstone\\\\find_ship-1\\\\test\\\\images\\\\y0034_png.rf.f6d9bece97d25f4ded8074f6844643fc.jpg'\n",
       " probs: None\n",
       " save_dir: 'runs\\\\detect\\\\test_results'\n",
       " speed: {'preprocess': 6.96330000027956, 'inference': 231.85639999974228, 'postprocess': 2.706300000227202}]"
      ]
     },
     "execution_count": 16,
     "metadata": {},
     "output_type": "execute_result"
    }
   ],
   "source": [
    "\n",
    "test_dir = dataset.location + \"/test/images\" \n",
    "\n",
    "\n",
    "model.predict(\n",
    "    source=test_dir,\n",
    "    save=True,           \n",
    "    conf=0.25,             \n",
    "    name=\"test_results\",   \n",
    ")"
   ]
  },
  {
   "cell_type": "code",
   "execution_count": null,
   "id": "5b38258f-f566-41da-be7e-911595de0e64",
   "metadata": {},
   "outputs": [],
   "source": []
  },
  {
   "cell_type": "code",
   "execution_count": null,
   "id": "822d65f9-f1dc-4177-9a0c-fcb0ccdb9051",
   "metadata": {},
   "outputs": [],
   "source": []
  }
 ],
 "metadata": {
  "kernelspec": {
   "display_name": "prjCapston",
   "language": "python",
   "name": "prjcapston"
  },
  "language_info": {
   "codemirror_mode": {
    "name": "ipython",
    "version": 3
   },
   "file_extension": ".py",
   "mimetype": "text/x-python",
   "name": "python",
   "nbconvert_exporter": "python",
   "pygments_lexer": "ipython3",
   "version": "3.9.0"
  }
 },
 "nbformat": 4,
 "nbformat_minor": 5
}
